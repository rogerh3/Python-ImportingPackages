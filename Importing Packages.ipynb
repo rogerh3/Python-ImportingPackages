{
 "cells": [
  {
   "cell_type": "code",
   "execution_count": 1,
   "id": "2b9ad393",
   "metadata": {},
   "outputs": [],
   "source": [
    "#Udemy - Packages\n",
    "#Roger H Hayden III\n",
    "#2/9/22"
   ]
  },
  {
   "cell_type": "code",
   "execution_count": null,
   "id": "ab35f8af",
   "metadata": {},
   "outputs": [],
   "source": [
    "#Python Packages need to be installed through Anaconda Prompt (Windows) or Terminal (Mac)\n",
    "#You will need to run either:\n",
    "    # conda install packagename\n",
    "    # pip install packagename"
   ]
  },
  {
   "cell_type": "code",
   "execution_count": 2,
   "id": "e877bde1",
   "metadata": {},
   "outputs": [],
   "source": [
    "#We did pip install scrapy\n",
    "import scrapy"
   ]
  },
  {
   "cell_type": "code",
   "execution_count": 4,
   "id": "18e04260",
   "metadata": {},
   "outputs": [],
   "source": [
    "#This is to import only 1 module from the scrapy package\n",
    "from scrapy.crawler import CrawlerProcess"
   ]
  },
  {
   "cell_type": "code",
   "execution_count": null,
   "id": "6117f461",
   "metadata": {},
   "outputs": [],
   "source": [
    "#You can also type in scrapy. or CrwalerProcess. and see what options there are for you to use"
   ]
  }
 ],
 "metadata": {
  "kernelspec": {
   "display_name": "Python 3 (ipykernel)",
   "language": "python",
   "name": "python3"
  },
  "language_info": {
   "codemirror_mode": {
    "name": "ipython",
    "version": 3
   },
   "file_extension": ".py",
   "mimetype": "text/x-python",
   "name": "python",
   "nbconvert_exporter": "python",
   "pygments_lexer": "ipython3",
   "version": "3.9.7"
  }
 },
 "nbformat": 4,
 "nbformat_minor": 5
}
